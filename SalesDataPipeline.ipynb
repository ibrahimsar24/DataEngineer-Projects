{
 "cells": [
  {
   "cell_type": "code",
   "execution_count": 1,
   "id": "18ed2642-3430-4b8d-9f12-f264e5e24b55",
   "metadata": {},
   "outputs": [],
   "source": [
    "from pyspark.sql import SparkSession\n",
    "from pyspark.sql.functions import col,explode,sum"
   ]
  },
  {
   "cell_type": "code",
   "execution_count": 2,
   "id": "f9f91af6-c563-4474-a28e-ee5fa01451f4",
   "metadata": {},
   "outputs": [
    {
     "name": "stderr",
     "output_type": "stream",
     "text": [
      "25/05/14 08:49:38 WARN Utils: Your hostname, codespaces-f8e69a resolves to a loopback address: 127.0.0.1; using 10.0.1.40 instead (on interface eth0)\n",
      "25/05/14 08:49:38 WARN Utils: Set SPARK_LOCAL_IP if you need to bind to another address\n",
      "Setting default log level to \"WARN\".\n",
      "To adjust logging level use sc.setLogLevel(newLevel). For SparkR, use setLogLevel(newLevel).\n",
      "25/05/14 08:49:38 WARN NativeCodeLoader: Unable to load native-hadoop library for your platform... using builtin-java classes where applicable\n",
      "25/05/14 08:49:39 WARN Utils: Service 'SparkUI' could not bind on port 4040. Attempting port 4041.\n",
      "25/05/14 08:49:51 WARN GarbageCollectionMetrics: To enable non-built-in garbage collector(s) List(G1 Concurrent GC), users should configure it(them) to spark.eventLog.gcMetrics.youngGenerationGarbageCollectors or spark.eventLog.gcMetrics.oldGenerationGarbageCollectors\n"
     ]
    }
   ],
   "source": [
    "spark = SparkSession.builder.appName(\"SalesDataPipeline\").getOrCreate()"
   ]
  },
  {
   "cell_type": "code",
   "execution_count": 3,
   "id": "00ee1f0c-8d50-44c9-a6f2-a259d484a8de",
   "metadata": {},
   "outputs": [
    {
     "name": "stdout",
     "output_type": "stream",
     "text": [
      "+--------+--------+-------+------+----------+\n",
      "|store_id|location|sale_id|amount| sale_date|\n",
      "+--------+--------+-------+------+----------+\n",
      "|      S1|   Delhi|     X1|  5000|2024-05-01|\n",
      "|      S1|   Delhi|     X2|  7200|2024-05-02|\n",
      "|      S2|  Mumbai|     X3|  4100|2024-05-01|\n",
      "+--------+--------+-------+------+----------+\n",
      "\n"
     ]
    }
   ],
   "source": [
    "df = spark.read.option(\"multiline\",\"true\").json(\"sales_data.json\")\n",
    "df = df.withColumn(\"sale\",explode(\"sales\"))\n",
    "flat_df = df.select(\n",
    "    col(\"store_id\"),\n",
    "    col(\"location\"),\n",
    "    col(\"sale.sale_id\").alias(\"sale_id\"),\n",
    "    col(\"sale.amount\").alias(\"amount\"),\n",
    "    col(\"sale.date\").alias(\"sale_date\")\n",
    ")\n",
    "flat_df.show()"
   ]
  },
  {
   "cell_type": "code",
   "execution_count": 5,
   "id": "cd290929-03d7-42b3-b86b-b1b46982da3d",
   "metadata": {},
   "outputs": [],
   "source": [
    "stores = flat_df.select(\"store_id\",\"location\").distinct()\n",
    "sales = flat_df.select(\"sale_id\",\"store_id\",\"amount\",\"sale_date\")\n",
    "\n",
    "sales.write.partitionBy(\"store_id\").mode(\"overwrite\").csv(\"sales_partitioned\")"
   ]
  },
  {
   "cell_type": "code",
   "execution_count": 6,
   "id": "bdf2a123-9bab-4b26-aacb-4b7abfb2c0cc",
   "metadata": {},
   "outputs": [
    {
     "name": "stdout",
     "output_type": "stream",
     "text": [
      "+--------+-----------+\n",
      "|store_id|total_sales|\n",
      "+--------+-----------+\n",
      "|      S2|       4100|\n",
      "|      S1|      12200|\n",
      "+--------+-----------+\n",
      "\n"
     ]
    }
   ],
   "source": [
    "total_sales = sales.groupBy(\"store_id\").agg(sum(\"amount\").alias(\"total_sales\"))\n",
    "total_sales.show()"
   ]
  }
 ],
 "metadata": {
  "kernelspec": {
   "display_name": "Python 3 (ipykernel)",
   "language": "python",
   "name": "python3"
  },
  "language_info": {
   "codemirror_mode": {
    "name": "ipython",
    "version": 3
   },
   "file_extension": ".py",
   "mimetype": "text/x-python",
   "name": "python",
   "nbconvert_exporter": "python",
   "pygments_lexer": "ipython3",
   "version": "3.12.1"
  }
 },
 "nbformat": 4,
 "nbformat_minor": 5
}
